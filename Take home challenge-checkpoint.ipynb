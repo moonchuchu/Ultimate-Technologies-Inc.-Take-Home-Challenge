{
 "cells": [
  {
   "cell_type": "markdown",
   "metadata": {},
   "source": [
    "Part 1 ‑ Exploratory data analysis\n",
    "\n",
    "\n",
    "Aggregate these login counts based on 15­minute time intervals, and\n",
    "visualize and describe the resulting time series of login counts in ways that best characterize the\n",
    "underlying patterns of the demand. Please report/illustrate important features of the demand,\n",
    "such as daily cycles. If there are data quality issues, please report them"
   ]
  },
  {
   "cell_type": "code",
   "execution_count": 1,
   "metadata": {},
   "outputs": [],
   "source": [
    "import pandas as pd\n",
    "# Import Dataset\n",
    "df = pd.read_json(\"C:/Users/eymoo/Documents/ultimate_challenge/logins.json\")"
   ]
  },
  {
   "cell_type": "code",
   "execution_count": 2,
   "metadata": {},
   "outputs": [],
   "source": [
    "df['fr']=1"
   ]
  },
  {
   "cell_type": "code",
   "execution_count": 3,
   "metadata": {},
   "outputs": [],
   "source": [
    "df_sum=df.resample('15min', on='login_time').fr.sum()"
   ]
  },
  {
   "cell_type": "code",
   "execution_count": 132,
   "metadata": {},
   "outputs": [
    {
     "data": {
      "image/png": "[encoded data removed]",
      "text/plain": [
       "<Figure size 432x288 with 1 Axes>"
      ]
     },
     "metadata": {},
     "output_type": "display_data"
    }
   ],
   "source": [
    "import matplotlib.pyplot as plt\n",
    "fig = plt.figure() # Create matplotlib figure\n",
    "\n",
    "ax = fig.add_subplot(111) # Create matplotlib axes\n",
    "\n",
    "width = 2\n",
    "\n",
    "df_sum.plot(kind='bar', color='orange', ax=ax, width=width, position=1)\n",
    "ax.set_title('login count by 15min')\n",
    "\n",
    "plt.show()"
   ]
  },
  {
   "cell_type": "markdown",
   "metadata": {},
   "source": [
    "Part 2 ‑ Experiment and metrics design\n",
    "\n",
    "<br>\n",
    "The neighboring cities of Gotham and Metropolis have complementary circadian rhythms: on\n",
    "weekdays, Ultimate Gotham is most active at night, and Ultimate Metropolis is most active\n",
    "during the day. On weekends, there is reasonable activity in both cities.\n",
    "However, a toll bridge, with a two­way toll, between the two cities causes driver partners to tend\n",
    "to be exclusive to each city. The Ultimate managers of city operations for the two cities have\n",
    "proposed an experiment to encourage driver partners to be available in both cities, by\n",
    "reimbursing all toll costs.\n",
    "1. What would you choose as the key measure of success of this experiment in\n",
    "encouraging driver partners to serve both cities, and why would you choose this metric?\n",
    "2. Describe a practical experiment you would design to compare the effectiveness of the\n",
    "proposed change in relation to the key measure of success. Please provide details on:\n",
    "a. how you will implement the experiment\n",
    "b. what statistical test(s) you will conduct to verify the significance of the\n",
    "observation\n",
    "c. how you would interpret the results and provide recommendations to the city\n",
    "operations team along with any caveats."
   ]
  },
  {
   "cell_type": "markdown",
   "metadata": {},
   "source": [
    "Ultimate Gotham : most active at night\n",
    "Ultimate Metropolis : most active during day\n",
    "Both has reasonable activities during weekend\n",
    "<br>\n",
    "Because of the toll the drivers wants to be exclusive to each city which led city manager to suggest reimbursing the toll.\n",
    "<br><br>\n",
    "1.Key Metric to measure success of this campaign? \n",
    "<br>\n",
    "1) Before and After trip travel volume in general\n",
    "2) Before and After inter-city travel volume\n",
    "<br><br>\n",
    "2.Describe Practical experiment you would design to compare the effectiveness\n",
    "<br><br>\n",
    "a. Experiment : Reimburse the toll\n",
    "<br>\n",
    "b. Statistical test : before and after t-test Itotal \n",
    "    # of trips during previous month to this month in area A (control) and area B (test)\n",
    "<br>\n",
    "c. If p<0.05 then it is statistically significant - the caveat is that the control and test area can have bias \n",
    "or differences that we didn't expect before. "
   ]
  },
  {
   "cell_type": "markdown",
   "metadata": {},
   "source": [
    "----------------------------"
   ]
  },
  {
   "cell_type": "markdown",
   "metadata": {},
   "source": [
    "Part 3 ‑ Predictive modeling"
   ]
  },
  {
   "cell_type": "markdown",
   "metadata": {},
   "source": [
    "We would like you to use this data set to help understand what factors are the best predictors\n",
    "for retention, and offer suggestions to operationalize those insights to help Ultimate.\n",
    "\n",
    "<br><br>\n",
    "\n",
    "1. Perform any cleaning, exploratory analysis, and/or visualizations to use the provided\n",
    "data for this analysis (a few sentences/plots describing your approach will suffice). What\n",
    "fraction of the observed users were retained?\n"
   ]
  },
  {
   "cell_type": "code",
   "execution_count": 133,
   "metadata": {},
   "outputs": [],
   "source": [
    "import pandas as pd\n",
    "# Import Dataset\n",
    "df2 = pd.read_json(\"C:/Users/eymoo/Documents/ultimate_challenge/ultimate_data_challenge.json\")"
   ]
  },
  {
   "cell_type": "code",
   "execution_count": 134,
   "metadata": {},
   "outputs": [
    {
     "data": {
      "text/html": [
       "<div>\n",
       "<style scoped>\n",
       "    .dataframe tbody tr th:only-of-type {\n",
       "        vertical-align: middle;\n",
       "    }\n",
       "\n",
       "    .dataframe tbody tr th {\n",
       "        vertical-align: top;\n",
       "    }\n",
       "\n",
       "    .dataframe thead th {\n",
       "        text-align: right;\n",
       "    }\n",
       "</style>\n",
       "<table border=\"1\" class=\"dataframe\">\n",
       "  <thead>\n",
       "    <tr style=\"text-align: right;\">\n",
       "      <th></th>\n",
       "      <th>city</th>\n",
       "      <th>trips_in_first_30_days</th>\n",
       "      <th>signup_date</th>\n",
       "      <th>avg_rating_of_driver</th>\n",
       "      <th>avg_surge</th>\n",
       "      <th>last_trip_date</th>\n",
       "      <th>phone</th>\n",
       "      <th>surge_pct</th>\n",
       "      <th>ultimate_black_user</th>\n",
       "      <th>weekday_pct</th>\n",
       "      <th>avg_dist</th>\n",
       "      <th>avg_rating_by_driver</th>\n",
       "    </tr>\n",
       "  </thead>\n",
       "  <tbody>\n",
       "    <tr>\n",
       "      <th>0</th>\n",
       "      <td>King's Landing</td>\n",
       "      <td>4</td>\n",
       "      <td>2014-01-25</td>\n",
       "      <td>4.7</td>\n",
       "      <td>1.10</td>\n",
       "      <td>2014-06-17</td>\n",
       "      <td>iPhone</td>\n",
       "      <td>15.4</td>\n",
       "      <td>True</td>\n",
       "      <td>46.2</td>\n",
       "      <td>3.67</td>\n",
       "      <td>5.0</td>\n",
       "    </tr>\n",
       "    <tr>\n",
       "      <th>1</th>\n",
       "      <td>Astapor</td>\n",
       "      <td>0</td>\n",
       "      <td>2014-01-29</td>\n",
       "      <td>5.0</td>\n",
       "      <td>1.00</td>\n",
       "      <td>2014-05-05</td>\n",
       "      <td>Android</td>\n",
       "      <td>0.0</td>\n",
       "      <td>False</td>\n",
       "      <td>50.0</td>\n",
       "      <td>8.26</td>\n",
       "      <td>5.0</td>\n",
       "    </tr>\n",
       "    <tr>\n",
       "      <th>2</th>\n",
       "      <td>Astapor</td>\n",
       "      <td>3</td>\n",
       "      <td>2014-01-06</td>\n",
       "      <td>4.3</td>\n",
       "      <td>1.00</td>\n",
       "      <td>2014-01-07</td>\n",
       "      <td>iPhone</td>\n",
       "      <td>0.0</td>\n",
       "      <td>False</td>\n",
       "      <td>100.0</td>\n",
       "      <td>0.77</td>\n",
       "      <td>5.0</td>\n",
       "    </tr>\n",
       "    <tr>\n",
       "      <th>3</th>\n",
       "      <td>King's Landing</td>\n",
       "      <td>9</td>\n",
       "      <td>2014-01-10</td>\n",
       "      <td>4.6</td>\n",
       "      <td>1.14</td>\n",
       "      <td>2014-06-29</td>\n",
       "      <td>iPhone</td>\n",
       "      <td>20.0</td>\n",
       "      <td>True</td>\n",
       "      <td>80.0</td>\n",
       "      <td>2.36</td>\n",
       "      <td>4.9</td>\n",
       "    </tr>\n",
       "    <tr>\n",
       "      <th>4</th>\n",
       "      <td>Winterfell</td>\n",
       "      <td>14</td>\n",
       "      <td>2014-01-27</td>\n",
       "      <td>4.4</td>\n",
       "      <td>1.19</td>\n",
       "      <td>2014-03-15</td>\n",
       "      <td>Android</td>\n",
       "      <td>11.8</td>\n",
       "      <td>False</td>\n",
       "      <td>82.4</td>\n",
       "      <td>3.13</td>\n",
       "      <td>4.9</td>\n",
       "    </tr>\n",
       "  </tbody>\n",
       "</table>\n",
       "</div>"
      ],
      "text/plain": [
       "             city  trips_in_first_30_days signup_date  avg_rating_of_driver  \\\n",
       "0  King's Landing                       4  2014-01-25                   4.7   \n",
       "1         Astapor                       0  2014-01-29                   5.0   \n",
       "2         Astapor                       3  2014-01-06                   4.3   \n",
       "3  King's Landing                       9  2014-01-10                   4.6   \n",
       "4      Winterfell                      14  2014-01-27                   4.4   \n",
       "\n",
       "   avg_surge last_trip_date    phone  surge_pct  ultimate_black_user  \\\n",
       "0       1.10     2014-06-17   iPhone       15.4                 True   \n",
       "1       1.00     2014-05-05  Android        0.0                False   \n",
       "2       1.00     2014-01-07   iPhone        0.0                False   \n",
       "3       1.14     2014-06-29   iPhone       20.0                 True   \n",
       "4       1.19     2014-03-15  Android       11.8                False   \n",
       "\n",
       "   weekday_pct  avg_dist  avg_rating_by_driver  \n",
       "0         46.2      3.67                   5.0  \n",
       "1         50.0      8.26                   5.0  \n",
       "2        100.0      0.77                   5.0  \n",
       "3         80.0      2.36                   4.9  \n",
       "4         82.4      3.13                   4.9  "
      ]
     },
     "execution_count": 134,
     "metadata": {},
     "output_type": "execute_result"
    }
   ],
   "source": [
    "df2.head(5)"
   ]
  },
  {
   "cell_type": "code",
   "execution_count": 6,
   "metadata": {},
   "outputs": [
    {
     "data": {
      "application/vnd.jupyter.widget-view+json": {
       "model_id": "93fce2742d3c4db0a07d573c1b39f1d0",
       "version_major": 2,
       "version_minor": 0
      },
      "text/plain": [
       "HBox(children=(HTML(value='Summarize dataset'), FloatProgress(value=0.0, max=25.0), HTML(value='')))"
      ]
     },
     "metadata": {},
     "output_type": "display_data"
    },
    {
     "name": "stdout",
     "output_type": "stream",
     "text": [
      "\n"
     ]
    },
    {
     "data": {
      "application/vnd.jupyter.widget-view+json": {
       "model_id": "ef480af12aaa45768721daa294f50708",
       "version_major": 2,
       "version_minor": 0
      },
      "text/plain": [
       "HBox(children=(HTML(value='Generate report structure'), FloatProgress(value=0.0, max=1.0), HTML(value='')))"
      ]
     },
     "metadata": {},
     "output_type": "display_data"
    },
    {
     "name": "stdout",
     "output_type": "stream",
     "text": [
      "\n"
     ]
    },
    {
     "data": {
      "application/vnd.jupyter.widget-view+json": {
       "model_id": "fdff57cb51d645cc9c237905203833b9",
       "version_major": 2,
       "version_minor": 0
      },
      "text/plain": [
       "HBox(children=(HTML(value='Render HTML'), FloatProgress(value=0.0, max=1.0), HTML(value='')))"
      ]
     },
     "metadata": {},
     "output_type": "display_data"
    },
    {
     "name": "stdout",
     "output_type": "stream",
     "text": [
      "\n"
     ]
    },
    {
     "data": {
      "application/vnd.jupyter.widget-view+json": {
       "model_id": "4866e016ac114190bf058c3ffaf81e38",
       "version_major": 2,
       "version_minor": 0
      },
      "text/plain": [
       "HBox(children=(HTML(value='Export report to file'), FloatProgress(value=0.0, max=1.0), HTML(value='')))"
      ]
     },
     "metadata": {},
     "output_type": "display_data"
    },
    {
     "name": "stdout",
     "output_type": "stream",
     "text": [
      "\n"
     ]
    }
   ],
   "source": [
    "from pandas_profiling import ProfileReport\n",
    "prof = ProfileReport(df2)\n",
    "prof.to_file(output_file='df2_output.html')"
   ]
  },
  {
   "attachments": {
    "image.png": {
     "image/png": "[encoded data removed]"
    }
   },
   "cell_type": "markdown",
   "metadata": {},
   "source": [
    "1. The data has some duplicates that needs to be cleaned \n",
    "2. 182 unique dats\n",
    "3. 30% new signup users didn't have any trips in firsT 30D, which means that 30% of the new signup users are churned.\n",
    "4. ~70% of users didn't have any surge charge\n",
    "5. In average 18% weekday percentage throughout customers trip\n",
    "\n",
    "\n",
    "![image.png](attachment:image.png)\n"
   ]
  },
  {
   "attachments": {
    "image-2.png": {
     "image/png": "[encoded data removed]"
    },
    "image-3.png": {
     "image/png": "[encoded data removed]"
    },
    "image-4.png": {
     "image/png": "[encoded data removed]"
    },
    "image-5.png": {
     "image/png": "[encoded data removed]"
    },
    "image.png": {
     "image/png": "[encoded data removed]"
    }
   },
   "cell_type": "markdown",
   "metadata": {},
   "source": [
    "A) The trip happened in 3 cities\n",
    "\n",
    "![image.png](attachment:image.png)\n",
    "\n",
    "B) On average, 2.3 trips during 1st 30D signup and majority of the big chunk of users(30%) didn't have any trips. \n",
    "\n",
    "![image-2.png](attachment:image-2.png)\n",
    "\n",
    "3) Customers uses Iphone is 2x more than Android phones\n",
    "![image-3.png](attachment:image-3.png)\n",
    "\n",
    "4) Ultimate black is ~40% of the total customers.\n",
    "![image-4.png](attachment:image-4.png)\n",
    "\n",
    "5) Average trip distribution is 6 miles. We would need to verify maximum value (160mile?!!?)  \n",
    "![image-5.png](attachment:image-5.png)"
   ]
  },
  {
   "attachments": {
    "image.png": {
     "image/png": "[encoded data removed]"
    }
   },
   "cell_type": "markdown",
   "metadata": {},
   "source": [
    "-It looks like there is quite a bit of correlation between trips in first 30D vs Ultimate black user\n",
    "-Avg_distance has negative correlation with trips first 30 days, weekday pct vs surge pct  \n",
    "![image.png](attachment:image.png)\n"
   ]
  },
  {
   "cell_type": "markdown",
   "metadata": {},
   "source": [
    "<br>\n",
    "2. Build a predictive model to help Ultimate determine whether or not a user will be active\n",
    "in their 6th month on the system. Discuss why you chose your approach, what\n",
    "alternatives you considered, and any concerns you have. How valid is your model?\n",
    "Include any key indicators of model performance.\n"
   ]
  },
  {
   "cell_type": "markdown",
   "metadata": {},
   "source": [
    "Need to create the churned/retained one by creating another column that shows last trip date - signupdate > 180 days (or 6m)"
   ]
  },
  {
   "cell_type": "code",
   "execution_count": 135,
   "metadata": {},
   "outputs": [],
   "source": [
    "#calcualate the date difference between last trip date and signup date\n",
    "from datetime import date\n",
    "df2['signup_date']=pd.to_datetime(df2['signup_date'])\n",
    "df2['last_trip_date']=pd.to_datetime(df2['last_trip_date'])\n",
    "df2['Duration_days']=((df2['last_trip_date']-df2['signup_date']).astype('timedelta64[m]'))/1440\n",
    "df2['Duration_month']=df2['Duration_days']/30"
   ]
  },
  {
   "cell_type": "code",
   "execution_count": 136,
   "metadata": {},
   "outputs": [],
   "source": [
    "df2['class'] = 0 # add a class column with 0 as default value\n",
    "\n",
    "# find all rows that fulfills your conditions and set class to 1\n",
    "df2.loc[(df2['Duration_month'] >5),'class'] = 1 # then set class to 1"
   ]
  },
  {
   "cell_type": "code",
   "execution_count": 137,
   "metadata": {},
   "outputs": [
    {
     "data": {
      "text/html": [
       "<div>\n",
       "<style scoped>\n",
       "    .dataframe tbody tr th:only-of-type {\n",
       "        vertical-align: middle;\n",
       "    }\n",
       "\n",
       "    .dataframe tbody tr th {\n",
       "        vertical-align: top;\n",
       "    }\n",
       "\n",
       "    .dataframe thead th {\n",
       "        text-align: right;\n",
       "    }\n",
       "</style>\n",
       "<table border=\"1\" class=\"dataframe\">\n",
       "  <thead>\n",
       "    <tr style=\"text-align: right;\">\n",
       "      <th></th>\n",
       "      <th>city</th>\n",
       "      <th>trips_in_first_30_days</th>\n",
       "      <th>signup_date</th>\n",
       "      <th>avg_rating_of_driver</th>\n",
       "      <th>avg_surge</th>\n",
       "      <th>last_trip_date</th>\n",
       "      <th>phone</th>\n",
       "      <th>surge_pct</th>\n",
       "      <th>ultimate_black_user</th>\n",
       "      <th>weekday_pct</th>\n",
       "      <th>avg_dist</th>\n",
       "      <th>avg_rating_by_driver</th>\n",
       "      <th>Duration_days</th>\n",
       "      <th>Duration_month</th>\n",
       "      <th>class</th>\n",
       "    </tr>\n",
       "  </thead>\n",
       "  <tbody>\n",
       "    <tr>\n",
       "      <th>0</th>\n",
       "      <td>King's Landing</td>\n",
       "      <td>4</td>\n",
       "      <td>2014-01-25</td>\n",
       "      <td>4.7</td>\n",
       "      <td>1.10</td>\n",
       "      <td>2014-06-17</td>\n",
       "      <td>iPhone</td>\n",
       "      <td>15.4</td>\n",
       "      <td>True</td>\n",
       "      <td>46.2</td>\n",
       "      <td>3.67</td>\n",
       "      <td>5.0</td>\n",
       "      <td>143.0</td>\n",
       "      <td>4.766667</td>\n",
       "      <td>0</td>\n",
       "    </tr>\n",
       "    <tr>\n",
       "      <th>1</th>\n",
       "      <td>Astapor</td>\n",
       "      <td>0</td>\n",
       "      <td>2014-01-29</td>\n",
       "      <td>5.0</td>\n",
       "      <td>1.00</td>\n",
       "      <td>2014-05-05</td>\n",
       "      <td>Android</td>\n",
       "      <td>0.0</td>\n",
       "      <td>False</td>\n",
       "      <td>50.0</td>\n",
       "      <td>8.26</td>\n",
       "      <td>5.0</td>\n",
       "      <td>96.0</td>\n",
       "      <td>3.200000</td>\n",
       "      <td>0</td>\n",
       "    </tr>\n",
       "    <tr>\n",
       "      <th>2</th>\n",
       "      <td>Astapor</td>\n",
       "      <td>3</td>\n",
       "      <td>2014-01-06</td>\n",
       "      <td>4.3</td>\n",
       "      <td>1.00</td>\n",
       "      <td>2014-01-07</td>\n",
       "      <td>iPhone</td>\n",
       "      <td>0.0</td>\n",
       "      <td>False</td>\n",
       "      <td>100.0</td>\n",
       "      <td>0.77</td>\n",
       "      <td>5.0</td>\n",
       "      <td>1.0</td>\n",
       "      <td>0.033333</td>\n",
       "      <td>0</td>\n",
       "    </tr>\n",
       "    <tr>\n",
       "      <th>3</th>\n",
       "      <td>King's Landing</td>\n",
       "      <td>9</td>\n",
       "      <td>2014-01-10</td>\n",
       "      <td>4.6</td>\n",
       "      <td>1.14</td>\n",
       "      <td>2014-06-29</td>\n",
       "      <td>iPhone</td>\n",
       "      <td>20.0</td>\n",
       "      <td>True</td>\n",
       "      <td>80.0</td>\n",
       "      <td>2.36</td>\n",
       "      <td>4.9</td>\n",
       "      <td>170.0</td>\n",
       "      <td>5.666667</td>\n",
       "      <td>1</td>\n",
       "    </tr>\n",
       "    <tr>\n",
       "      <th>4</th>\n",
       "      <td>Winterfell</td>\n",
       "      <td>14</td>\n",
       "      <td>2014-01-27</td>\n",
       "      <td>4.4</td>\n",
       "      <td>1.19</td>\n",
       "      <td>2014-03-15</td>\n",
       "      <td>Android</td>\n",
       "      <td>11.8</td>\n",
       "      <td>False</td>\n",
       "      <td>82.4</td>\n",
       "      <td>3.13</td>\n",
       "      <td>4.9</td>\n",
       "      <td>47.0</td>\n",
       "      <td>1.566667</td>\n",
       "      <td>0</td>\n",
       "    </tr>\n",
       "  </tbody>\n",
       "</table>\n",
       "</div>"
      ],
      "text/plain": [
       "             city  trips_in_first_30_days signup_date  avg_rating_of_driver  \\\n",
       "0  King's Landing                       4  2014-01-25                   4.7   \n",
       "1         Astapor                       0  2014-01-29                   5.0   \n",
       "2         Astapor                       3  2014-01-06                   4.3   \n",
       "3  King's Landing                       9  2014-01-10                   4.6   \n",
       "4      Winterfell                      14  2014-01-27                   4.4   \n",
       "\n",
       "   avg_surge last_trip_date    phone  surge_pct  ultimate_black_user  \\\n",
       "0       1.10     2014-06-17   iPhone       15.4                 True   \n",
       "1       1.00     2014-05-05  Android        0.0                False   \n",
       "2       1.00     2014-01-07   iPhone        0.0                False   \n",
       "3       1.14     2014-06-29   iPhone       20.0                 True   \n",
       "4       1.19     2014-03-15  Android       11.8                False   \n",
       "\n",
       "   weekday_pct  avg_dist  avg_rating_by_driver  Duration_days  Duration_month  \\\n",
       "0         46.2      3.67                   5.0          143.0        4.766667   \n",
       "1         50.0      8.26                   5.0           96.0        3.200000   \n",
       "2        100.0      0.77                   5.0            1.0        0.033333   \n",
       "3         80.0      2.36                   4.9          170.0        5.666667   \n",
       "4         82.4      3.13                   4.9           47.0        1.566667   \n",
       "\n",
       "   class  \n",
       "0      0  \n",
       "1      0  \n",
       "2      0  \n",
       "3      1  \n",
       "4      0  "
      ]
     },
     "execution_count": 137,
     "metadata": {},
     "output_type": "execute_result"
    }
   ],
   "source": [
    "df2.head(5)"
   ]
  },
  {
   "cell_type": "markdown",
   "metadata": {},
   "source": [
    "Now \"class\" serves as predicting outcome that shows whether or not a user will be active in their 6th month on the system.\n",
    "<br>\n",
    "If they were active in their 6m then '1' else '0'"
   ]
  },
  {
   "cell_type": "markdown",
   "metadata": {},
   "source": [
    "Since we have categorical variables, we need to do encoding before modeling. \n",
    "For encoding categorical data, we have a python package category_encoders. "
   ]
  },
  {
   "cell_type": "code",
   "execution_count": 139,
   "metadata": {},
   "outputs": [],
   "source": [
    "#Create dummy variables\n",
    "df3= pd.get_dummies(df2, columns=['city','phone','ultimate_black_user'])\n",
    "\n",
    "# na -> fill with 0\n",
    "df4=df3.fillna(0)"
   ]
  },
  {
   "cell_type": "code",
   "execution_count": 140,
   "metadata": {},
   "outputs": [
    {
     "data": {
      "text/html": [
       "<div>\n",
       "<style scoped>\n",
       "    .dataframe tbody tr th:only-of-type {\n",
       "        vertical-align: middle;\n",
       "    }\n",
       "\n",
       "    .dataframe tbody tr th {\n",
       "        vertical-align: top;\n",
       "    }\n",
       "\n",
       "    .dataframe thead th {\n",
       "        text-align: right;\n",
       "    }\n",
       "</style>\n",
       "<table border=\"1\" class=\"dataframe\">\n",
       "  <thead>\n",
       "    <tr style=\"text-align: right;\">\n",
       "      <th></th>\n",
       "      <th>trips_in_first_30_days</th>\n",
       "      <th>signup_date</th>\n",
       "      <th>avg_rating_of_driver</th>\n",
       "      <th>avg_surge</th>\n",
       "      <th>last_trip_date</th>\n",
       "      <th>surge_pct</th>\n",
       "      <th>weekday_pct</th>\n",
       "      <th>avg_dist</th>\n",
       "      <th>avg_rating_by_driver</th>\n",
       "      <th>Duration_days</th>\n",
       "      <th>Duration_month</th>\n",
       "      <th>class</th>\n",
       "      <th>city_Astapor</th>\n",
       "      <th>city_King's Landing</th>\n",
       "      <th>city_Winterfell</th>\n",
       "      <th>phone_Android</th>\n",
       "      <th>phone_iPhone</th>\n",
       "      <th>ultimate_black_user_False</th>\n",
       "      <th>ultimate_black_user_True</th>\n",
       "    </tr>\n",
       "  </thead>\n",
       "  <tbody>\n",
       "    <tr>\n",
       "      <th>0</th>\n",
       "      <td>4</td>\n",
       "      <td>2014-01-25</td>\n",
       "      <td>4.7</td>\n",
       "      <td>1.10</td>\n",
       "      <td>2014-06-17</td>\n",
       "      <td>15.4</td>\n",
       "      <td>46.2</td>\n",
       "      <td>3.67</td>\n",
       "      <td>5.0</td>\n",
       "      <td>143.0</td>\n",
       "      <td>4.766667</td>\n",
       "      <td>0</td>\n",
       "      <td>0</td>\n",
       "      <td>1</td>\n",
       "      <td>0</td>\n",
       "      <td>0</td>\n",
       "      <td>1</td>\n",
       "      <td>0</td>\n",
       "      <td>1</td>\n",
       "    </tr>\n",
       "    <tr>\n",
       "      <th>1</th>\n",
       "      <td>0</td>\n",
       "      <td>2014-01-29</td>\n",
       "      <td>5.0</td>\n",
       "      <td>1.00</td>\n",
       "      <td>2014-05-05</td>\n",
       "      <td>0.0</td>\n",
       "      <td>50.0</td>\n",
       "      <td>8.26</td>\n",
       "      <td>5.0</td>\n",
       "      <td>96.0</td>\n",
       "      <td>3.200000</td>\n",
       "      <td>0</td>\n",
       "      <td>1</td>\n",
       "      <td>0</td>\n",
       "      <td>0</td>\n",
       "      <td>1</td>\n",
       "      <td>0</td>\n",
       "      <td>1</td>\n",
       "      <td>0</td>\n",
       "    </tr>\n",
       "    <tr>\n",
       "      <th>2</th>\n",
       "      <td>3</td>\n",
       "      <td>2014-01-06</td>\n",
       "      <td>4.3</td>\n",
       "      <td>1.00</td>\n",
       "      <td>2014-01-07</td>\n",
       "      <td>0.0</td>\n",
       "      <td>100.0</td>\n",
       "      <td>0.77</td>\n",
       "      <td>5.0</td>\n",
       "      <td>1.0</td>\n",
       "      <td>0.033333</td>\n",
       "      <td>0</td>\n",
       "      <td>1</td>\n",
       "      <td>0</td>\n",
       "      <td>0</td>\n",
       "      <td>0</td>\n",
       "      <td>1</td>\n",
       "      <td>1</td>\n",
       "      <td>0</td>\n",
       "    </tr>\n",
       "    <tr>\n",
       "      <th>3</th>\n",
       "      <td>9</td>\n",
       "      <td>2014-01-10</td>\n",
       "      <td>4.6</td>\n",
       "      <td>1.14</td>\n",
       "      <td>2014-06-29</td>\n",
       "      <td>20.0</td>\n",
       "      <td>80.0</td>\n",
       "      <td>2.36</td>\n",
       "      <td>4.9</td>\n",
       "      <td>170.0</td>\n",
       "      <td>5.666667</td>\n",
       "      <td>1</td>\n",
       "      <td>0</td>\n",
       "      <td>1</td>\n",
       "      <td>0</td>\n",
       "      <td>0</td>\n",
       "      <td>1</td>\n",
       "      <td>0</td>\n",
       "      <td>1</td>\n",
       "    </tr>\n",
       "    <tr>\n",
       "      <th>4</th>\n",
       "      <td>14</td>\n",
       "      <td>2014-01-27</td>\n",
       "      <td>4.4</td>\n",
       "      <td>1.19</td>\n",
       "      <td>2014-03-15</td>\n",
       "      <td>11.8</td>\n",
       "      <td>82.4</td>\n",
       "      <td>3.13</td>\n",
       "      <td>4.9</td>\n",
       "      <td>47.0</td>\n",
       "      <td>1.566667</td>\n",
       "      <td>0</td>\n",
       "      <td>0</td>\n",
       "      <td>0</td>\n",
       "      <td>1</td>\n",
       "      <td>1</td>\n",
       "      <td>0</td>\n",
       "      <td>1</td>\n",
       "      <td>0</td>\n",
       "    </tr>\n",
       "  </tbody>\n",
       "</table>\n",
       "</div>"
      ],
      "text/plain": [
       "   trips_in_first_30_days signup_date  avg_rating_of_driver  avg_surge  \\\n",
       "0                       4  2014-01-25                   4.7       1.10   \n",
       "1                       0  2014-01-29                   5.0       1.00   \n",
       "2                       3  2014-01-06                   4.3       1.00   \n",
       "3                       9  2014-01-10                   4.6       1.14   \n",
       "4                      14  2014-01-27                   4.4       1.19   \n",
       "\n",
       "  last_trip_date  surge_pct  weekday_pct  avg_dist  avg_rating_by_driver  \\\n",
       "0     2014-06-17       15.4         46.2      3.67                   5.0   \n",
       "1     2014-05-05        0.0         50.0      8.26                   5.0   \n",
       "2     2014-01-07        0.0        100.0      0.77                   5.0   \n",
       "3     2014-06-29       20.0         80.0      2.36                   4.9   \n",
       "4     2014-03-15       11.8         82.4      3.13                   4.9   \n",
       "\n",
       "   Duration_days  Duration_month  class  city_Astapor  city_King's Landing  \\\n",
       "0          143.0        4.766667      0             0                    1   \n",
       "1           96.0        3.200000      0             1                    0   \n",
       "2            1.0        0.033333      0             1                    0   \n",
       "3          170.0        5.666667      1             0                    1   \n",
       "4           47.0        1.566667      0             0                    0   \n",
       "\n",
       "   city_Winterfell  phone_Android  phone_iPhone  ultimate_black_user_False  \\\n",
       "0                0              0             1                          0   \n",
       "1                0              1             0                          1   \n",
       "2                0              0             1                          1   \n",
       "3                0              0             1                          0   \n",
       "4                1              1             0                          1   \n",
       "\n",
       "   ultimate_black_user_True  \n",
       "0                         1  \n",
       "1                         0  \n",
       "2                         0  \n",
       "3                         1  \n",
       "4                         0  "
      ]
     },
     "execution_count": 140,
     "metadata": {},
     "output_type": "execute_result"
    }
   ],
   "source": [
    "df4.head(5)\n",
    "df5=df4"
   ]
  },
  {
   "cell_type": "code",
   "execution_count": 158,
   "metadata": {},
   "outputs": [
    {
     "data": {
      "text/plain": [
       "(50000, 19)"
      ]
     },
     "execution_count": 158,
     "metadata": {},
     "output_type": "execute_result"
    }
   ],
   "source": [
    "df4.dropna().shape"
   ]
  },
  {
   "cell_type": "code",
   "execution_count": 162,
   "metadata": {},
   "outputs": [
    {
     "name": "stdout",
     "output_type": "stream",
     "text": [
      "                           trips_in_first_30_days  avg_rating_of_driver  \\\n",
      "trips_in_first_30_days                   1.000000              0.182136   \n",
      "avg_rating_of_driver                     0.182136              1.000000   \n",
      "avg_surge                                0.001841              0.013315   \n",
      "surge_pct                                0.005720              0.005272   \n",
      "weekday_pct                              0.050388              0.025105   \n",
      "avg_dist                                 0.136329              0.116150   \n",
      "avg_rating_by_driver                     0.016127              0.037230   \n",
      "Duration_days                            0.164784              0.171518   \n",
      "Duration_month                           0.164784              0.171518   \n",
      "class                                    0.204841              0.130141   \n",
      "city_Astapor                             0.061075              0.012588   \n",
      "city_King's Landing                      0.024650              0.072348   \n",
      "city_Winterfell                          0.037735              0.046417   \n",
      "phone_Android                            0.059309              0.042610   \n",
      "phone_iPhone                             0.058342              0.045735   \n",
      "ultimate_black_user_False                0.112210              0.034175   \n",
      "ultimate_black_user_True                 0.112210              0.034175   \n",
      "\n",
      "                           avg_surge  surge_pct  weekday_pct  avg_dist  \\\n",
      "trips_in_first_30_days      0.001841   0.005720     0.050388  0.136329   \n",
      "avg_rating_of_driver        0.013315   0.005272     0.025105  0.116150   \n",
      "avg_surge                   1.000000   0.793582     0.110071  0.081491   \n",
      "surge_pct                   0.793582   1.000000     0.144918  0.104414   \n",
      "weekday_pct                 0.110071   0.144918     1.000000  0.101652   \n",
      "avg_dist                    0.081491   0.104414     0.101652  1.000000   \n",
      "avg_rating_by_driver        0.005918   0.004184     0.024253  0.063722   \n",
      "Duration_days               0.016809   0.004068     0.020408  0.109431   \n",
      "Duration_month              0.016809   0.004068     0.020408  0.109431   \n",
      "class                       0.006267   0.017045     0.005518  0.091802   \n",
      "city_Astapor                0.037172   0.045457     0.010540  0.045431   \n",
      "city_King's Landing         0.009198   0.028221     0.031349  0.015877   \n",
      "city_Winterfell             0.027643   0.065603     0.015318  0.030050   \n",
      "phone_Android               0.008977   0.010150     0.009241  0.020888   \n",
      "phone_iPhone                0.011104   0.012851     0.006726  0.025030   \n",
      "ultimate_black_user_False   0.078791   0.106861     0.035998  0.032310   \n",
      "ultimate_black_user_True    0.078791   0.106861     0.035998  0.032310   \n",
      "\n",
      "                           avg_rating_by_driver  Duration_days  \\\n",
      "trips_in_first_30_days                 0.016127       0.164784   \n",
      "avg_rating_of_driver                   0.037230       0.171518   \n",
      "avg_surge                              0.005918       0.016809   \n",
      "surge_pct                              0.004184       0.004068   \n",
      "weekday_pct                            0.024253       0.020408   \n",
      "avg_dist                               0.063722       0.109431   \n",
      "avg_rating_by_driver                   1.000000       0.005264   \n",
      "Duration_days                          0.005264       1.000000   \n",
      "Duration_month                         0.005264       1.000000   \n",
      "class                                  0.007295       0.637210   \n",
      "city_Astapor                           0.030105       0.119001   \n",
      "city_King's Landing                    0.070234       0.193598   \n",
      "city_Winterfell                        0.084974       0.043755   \n",
      "phone_Android                          0.006630       0.183721   \n",
      "phone_iPhone                           0.007221       0.187029   \n",
      "ultimate_black_user_False              0.023020       0.165035   \n",
      "ultimate_black_user_True               0.023020       0.165035   \n",
      "\n",
      "                           Duration_month     class  city_Astapor  \\\n",
      "trips_in_first_30_days           0.164784  0.204841      0.061075   \n",
      "avg_rating_of_driver             0.171518  0.130141      0.012588   \n",
      "avg_surge                        0.016809  0.006267      0.037172   \n",
      "surge_pct                        0.004068  0.017045      0.045457   \n",
      "weekday_pct                      0.020408  0.005518      0.010540   \n",
      "avg_dist                         0.109431  0.091802      0.045431   \n",
      "avg_rating_by_driver             0.005264  0.007295      0.030105   \n",
      "Duration_days                    1.000000  0.637210      0.119001   \n",
      "Duration_month                   1.000000  0.637210      0.119001   \n",
      "class                            0.637210  1.000000      0.132408   \n",
      "city_Astapor                     0.119001  0.132408      1.000000   \n",
      "city_King's Landing              0.193598  0.180708      0.354298   \n",
      "city_Winterfell                  0.043755  0.020727      0.657563   \n",
      "phone_Android                    0.183721  0.176623      0.025642   \n",
      "phone_iPhone                     0.187029  0.176607      0.024539   \n",
      "ultimate_black_user_False        0.165035  0.159157      0.021259   \n",
      "ultimate_black_user_True         0.165035  0.159157      0.021259   \n",
      "\n",
      "                           city_King's Landing  city_Winterfell  \\\n",
      "trips_in_first_30_days                0.024650         0.037735   \n",
      "avg_rating_of_driver                  0.072348         0.046417   \n",
      "avg_surge                             0.009198         0.027643   \n",
      "surge_pct                             0.028221         0.065603   \n",
      "weekday_pct                           0.031349         0.015318   \n",
      "avg_dist                              0.015877         0.030050   \n",
      "avg_rating_by_driver                  0.070234         0.084974   \n",
      "Duration_days                         0.193598         0.043755   \n",
      "Duration_month                        0.193598         0.043755   \n",
      "class                                 0.180708         0.020727   \n",
      "city_Astapor                          0.354298         0.657563   \n",
      "city_King's Landing                   1.000000         0.471555   \n",
      "city_Winterfell                       0.471555         1.000000   \n",
      "phone_Android                         0.059203         0.023517   \n",
      "phone_iPhone                          0.060520         0.025618   \n",
      "ultimate_black_user_False             0.039649         0.051990   \n",
      "ultimate_black_user_True              0.039649         0.051990   \n",
      "\n",
      "                           phone_Android  phone_iPhone  \\\n",
      "trips_in_first_30_days          0.059309      0.058342   \n",
      "avg_rating_of_driver            0.042610      0.045735   \n",
      "avg_surge                       0.008977      0.011104   \n",
      "surge_pct                       0.010150      0.012851   \n",
      "weekday_pct                     0.009241      0.006726   \n",
      "avg_dist                        0.020888      0.025030   \n",
      "avg_rating_by_driver            0.006630      0.007221   \n",
      "Duration_days                   0.183721      0.187029   \n",
      "Duration_month                  0.183721      0.187029   \n",
      "class                           0.176623      0.176607   \n",
      "city_Astapor                    0.025642      0.024539   \n",
      "city_King's Landing             0.059203      0.060520   \n",
      "city_Winterfell                 0.023517      0.025618   \n",
      "phone_Android                   1.000000      0.981471   \n",
      "phone_iPhone                    0.981471      1.000000   \n",
      "ultimate_black_user_False       0.075836      0.067002   \n",
      "ultimate_black_user_True        0.075836      0.067002   \n",
      "\n",
      "                           ultimate_black_user_False  ultimate_black_user_True  \n",
      "trips_in_first_30_days                      0.112210                  0.112210  \n",
      "avg_rating_of_driver                        0.034175                  0.034175  \n",
      "avg_surge                                   0.078791                  0.078791  \n",
      "surge_pct                                   0.106861                  0.106861  \n",
      "weekday_pct                                 0.035998                  0.035998  \n",
      "avg_dist                                    0.032310                  0.032310  \n",
      "avg_rating_by_driver                        0.023020                  0.023020  \n",
      "Duration_days                               0.165035                  0.165035  \n",
      "Duration_month                              0.165035                  0.165035  \n",
      "class                                       0.159157                  0.159157  \n",
      "city_Astapor                                0.021259                  0.021259  \n",
      "city_King's Landing                         0.039649                  0.039649  \n",
      "city_Winterfell                             0.051990                  0.051990  \n",
      "phone_Android                               0.075836                  0.075836  \n",
      "phone_iPhone                                0.067002                  0.067002  \n",
      "ultimate_black_user_False                   1.000000                  1.000000  \n",
      "ultimate_black_user_True                    1.000000                  1.000000  \n"
     ]
    }
   ],
   "source": [
    "#lets remove correlated features\n",
    "cor_matrix = df4.corr().abs()\n",
    "print(cor_matrix)"
   ]
  },
  {
   "cell_type": "code",
   "execution_count": 163,
   "metadata": {},
   "outputs": [
    {
     "name": "stdout",
     "output_type": "stream",
     "text": [
      "                           trips_in_first_30_days  avg_rating_of_driver  \\\n",
      "trips_in_first_30_days                        NaN              0.182136   \n",
      "avg_rating_of_driver                          NaN                   NaN   \n",
      "avg_surge                                     NaN                   NaN   \n",
      "surge_pct                                     NaN                   NaN   \n",
      "weekday_pct                                   NaN                   NaN   \n",
      "avg_dist                                      NaN                   NaN   \n",
      "avg_rating_by_driver                          NaN                   NaN   \n",
      "Duration_days                                 NaN                   NaN   \n",
      "Duration_month                                NaN                   NaN   \n",
      "class                                         NaN                   NaN   \n",
      "city_Astapor                                  NaN                   NaN   \n",
      "city_King's Landing                           NaN                   NaN   \n",
      "city_Winterfell                               NaN                   NaN   \n",
      "phone_Android                                 NaN                   NaN   \n",
      "phone_iPhone                                  NaN                   NaN   \n",
      "ultimate_black_user_False                     NaN                   NaN   \n",
      "ultimate_black_user_True                      NaN                   NaN   \n",
      "\n",
      "                           avg_surge  surge_pct  weekday_pct  avg_dist  \\\n",
      "trips_in_first_30_days      0.001841   0.005720     0.050388  0.136329   \n",
      "avg_rating_of_driver        0.013315   0.005272     0.025105  0.116150   \n",
      "avg_surge                        NaN   0.793582     0.110071  0.081491   \n",
      "surge_pct                        NaN        NaN     0.144918  0.104414   \n",
      "weekday_pct                      NaN        NaN          NaN  0.101652   \n",
      "avg_dist                         NaN        NaN          NaN       NaN   \n",
      "avg_rating_by_driver             NaN        NaN          NaN       NaN   \n",
      "Duration_days                    NaN        NaN          NaN       NaN   \n",
      "Duration_month                   NaN        NaN          NaN       NaN   \n",
      "class                            NaN        NaN          NaN       NaN   \n",
      "city_Astapor                     NaN        NaN          NaN       NaN   \n",
      "city_King's Landing              NaN        NaN          NaN       NaN   \n",
      "city_Winterfell                  NaN        NaN          NaN       NaN   \n",
      "phone_Android                    NaN        NaN          NaN       NaN   \n",
      "phone_iPhone                     NaN        NaN          NaN       NaN   \n",
      "ultimate_black_user_False        NaN        NaN          NaN       NaN   \n",
      "ultimate_black_user_True         NaN        NaN          NaN       NaN   \n",
      "\n",
      "                           avg_rating_by_driver  Duration_days  \\\n",
      "trips_in_first_30_days                 0.016127       0.164784   \n",
      "avg_rating_of_driver                   0.037230       0.171518   \n",
      "avg_surge                              0.005918       0.016809   \n",
      "surge_pct                              0.004184       0.004068   \n",
      "weekday_pct                            0.024253       0.020408   \n",
      "avg_dist                               0.063722       0.109431   \n",
      "avg_rating_by_driver                        NaN       0.005264   \n",
      "Duration_days                               NaN            NaN   \n",
      "Duration_month                              NaN            NaN   \n",
      "class                                       NaN            NaN   \n",
      "city_Astapor                                NaN            NaN   \n",
      "city_King's Landing                         NaN            NaN   \n",
      "city_Winterfell                             NaN            NaN   \n",
      "phone_Android                               NaN            NaN   \n",
      "phone_iPhone                                NaN            NaN   \n",
      "ultimate_black_user_False                   NaN            NaN   \n",
      "ultimate_black_user_True                    NaN            NaN   \n",
      "\n",
      "                           Duration_month     class  city_Astapor  \\\n",
      "trips_in_first_30_days           0.164784  0.204841      0.061075   \n",
      "avg_rating_of_driver             0.171518  0.130141      0.012588   \n",
      "avg_surge                        0.016809  0.006267      0.037172   \n",
      "surge_pct                        0.004068  0.017045      0.045457   \n",
      "weekday_pct                      0.020408  0.005518      0.010540   \n",
      "avg_dist                         0.109431  0.091802      0.045431   \n",
      "avg_rating_by_driver             0.005264  0.007295      0.030105   \n",
      "Duration_days                    1.000000  0.637210      0.119001   \n",
      "Duration_month                        NaN  0.637210      0.119001   \n",
      "class                                 NaN       NaN      0.132408   \n",
      "city_Astapor                          NaN       NaN           NaN   \n",
      "city_King's Landing                   NaN       NaN           NaN   \n",
      "city_Winterfell                       NaN       NaN           NaN   \n",
      "phone_Android                         NaN       NaN           NaN   \n",
      "phone_iPhone                          NaN       NaN           NaN   \n",
      "ultimate_black_user_False             NaN       NaN           NaN   \n",
      "ultimate_black_user_True              NaN       NaN           NaN   \n",
      "\n",
      "                           city_King's Landing  city_Winterfell  \\\n",
      "trips_in_first_30_days                0.024650         0.037735   \n",
      "avg_rating_of_driver                  0.072348         0.046417   \n",
      "avg_surge                             0.009198         0.027643   \n",
      "surge_pct                             0.028221         0.065603   \n",
      "weekday_pct                           0.031349         0.015318   \n",
      "avg_dist                              0.015877         0.030050   \n",
      "avg_rating_by_driver                  0.070234         0.084974   \n",
      "Duration_days                         0.193598         0.043755   \n",
      "Duration_month                        0.193598         0.043755   \n",
      "class                                 0.180708         0.020727   \n",
      "city_Astapor                          0.354298         0.657563   \n",
      "city_King's Landing                        NaN         0.471555   \n",
      "city_Winterfell                            NaN              NaN   \n",
      "phone_Android                              NaN              NaN   \n",
      "phone_iPhone                               NaN              NaN   \n",
      "ultimate_black_user_False                  NaN              NaN   \n",
      "ultimate_black_user_True                   NaN              NaN   \n",
      "\n",
      "                           phone_Android  phone_iPhone  \\\n",
      "trips_in_first_30_days          0.059309      0.058342   \n",
      "avg_rating_of_driver            0.042610      0.045735   \n",
      "avg_surge                       0.008977      0.011104   \n",
      "surge_pct                       0.010150      0.012851   \n",
      "weekday_pct                     0.009241      0.006726   \n",
      "avg_dist                        0.020888      0.025030   \n",
      "avg_rating_by_driver            0.006630      0.007221   \n",
      "Duration_days                   0.183721      0.187029   \n",
      "Duration_month                  0.183721      0.187029   \n",
      "class                           0.176623      0.176607   \n",
      "city_Astapor                    0.025642      0.024539   \n",
      "city_King's Landing             0.059203      0.060520   \n",
      "city_Winterfell                 0.023517      0.025618   \n",
      "phone_Android                        NaN      0.981471   \n",
      "phone_iPhone                         NaN           NaN   \n",
      "ultimate_black_user_False            NaN           NaN   \n",
      "ultimate_black_user_True             NaN           NaN   \n",
      "\n",
      "                           ultimate_black_user_False  ultimate_black_user_True  \n",
      "trips_in_first_30_days                      0.112210                  0.112210  \n",
      "avg_rating_of_driver                        0.034175                  0.034175  \n",
      "avg_surge                                   0.078791                  0.078791  \n",
      "surge_pct                                   0.106861                  0.106861  \n",
      "weekday_pct                                 0.035998                  0.035998  \n",
      "avg_dist                                    0.032310                  0.032310  \n",
      "avg_rating_by_driver                        0.023020                  0.023020  \n",
      "Duration_days                               0.165035                  0.165035  \n",
      "Duration_month                              0.165035                  0.165035  \n",
      "class                                       0.159157                  0.159157  \n",
      "city_Astapor                                0.021259                  0.021259  \n",
      "city_King's Landing                         0.039649                  0.039649  \n",
      "city_Winterfell                             0.051990                  0.051990  \n",
      "phone_Android                               0.075836                  0.075836  \n",
      "phone_iPhone                                0.067002                  0.067002  \n",
      "ultimate_black_user_False                        NaN                  1.000000  \n",
      "ultimate_black_user_True                         NaN                       NaN  \n"
     ]
    },
    {
     "name": "stderr",
     "output_type": "stream",
     "text": [
      "<ipython-input-163-a7ccc5b3d829>:2: DeprecationWarning: `np.bool` is a deprecated alias for the builtin `bool`. To silence this warning, use `bool` by itself. Doing this will not modify any behavior and is safe. If you specifically wanted the numpy scalar type, use `np.bool_` here.\n",
      "Deprecated in NumPy 1.20; for more details and guidance: https://numpy.org/devdocs/release/1.20.0-notes.html#deprecations\n",
      "  upper_tri = cor_matrix.where(np.triu(np.ones(cor_matrix.shape),k=1).astype(np.bool))\n"
     ]
    }
   ],
   "source": [
    "    import numpy as np\n",
    "    upper_tri = cor_matrix.where(np.triu(np.ones(cor_matrix.shape),k=1).astype(np.bool))\n",
    "    print(upper_tri)"
   ]
  },
  {
   "cell_type": "code",
   "execution_count": 164,
   "metadata": {},
   "outputs": [
    {
     "name": "stdout",
     "output_type": "stream",
     "text": [
      "\n",
      "['surge_pct', 'Duration_month', 'phone_iPhone', 'ultimate_black_user_True']\n"
     ]
    }
   ],
   "source": [
    "#Droping the column with high correlation\n",
    "#So we are selecting the columns which are having absolute correlation greater than 0.70 and making a list of those columns named 'to_drop'.\n",
    "\n",
    "to_drop = [column for column in upper_tri.columns if any(upper_tri[column] > 0.70)]\n",
    "print(); print(to_drop)"
   ]
  },
  {
   "cell_type": "code",
   "execution_count": 166,
   "metadata": {},
   "outputs": [
    {
     "name": "stdout",
     "output_type": "stream",
     "text": [
      "\n",
      "   trips_in_first_30_days  avg_rating_of_driver  avg_surge  weekday_pct  \\\n",
      "0                       4                   4.7       1.10         46.2   \n",
      "1                       0                   5.0       1.00         50.0   \n",
      "2                       3                   4.3       1.00        100.0   \n",
      "3                       9                   4.6       1.14         80.0   \n",
      "4                      14                   4.4       1.19         82.4   \n",
      "\n",
      "   avg_dist  avg_rating_by_driver  class  city_Astapor  city_King's Landing  \\\n",
      "0      3.67                   5.0      0             0                    1   \n",
      "1      8.26                   5.0      0             1                    0   \n",
      "2      0.77                   5.0      0             1                    0   \n",
      "3      2.36                   4.9      1             0                    1   \n",
      "4      3.13                   4.9      0             0                    0   \n",
      "\n",
      "   city_Winterfell  phone_Android  ultimate_black_user_False  \n",
      "0                0              0                          0  \n",
      "1                0              1                          1  \n",
      "2                0              0                          1  \n",
      "3                0              0                          0  \n",
      "4                1              1                          1  \n"
     ]
    }
   ],
   "source": [
    "#Now we are droping the columns which are in the list 'to_drop' from the dataframe\n",
    "\n",
    "df5=df4.drop(columns=['signup_date','surge_pct', 'Duration_month', 'phone_iPhone', 'ultimate_black_user_True','last_trip_date','Duration_days'])\n",
    "print(); print(df5.head())"
   ]
  },
  {
   "cell_type": "markdown",
   "metadata": {},
   "source": [
    "Now the dataset is ready, we will run modeling"
   ]
  },
  {
   "cell_type": "markdown",
   "metadata": {},
   "source": [
    "First, we try a basic Logistic Regression:\n",
    "\n",
    "Split the data into a training and test (hold-out) set\n",
    "Train on the training set, and test for accuracy on the testing set"
   ]
  },
  {
   "cell_type": "code",
   "execution_count": 167,
   "metadata": {},
   "outputs": [
    {
     "data": {
      "text/html": [
       "<div>\n",
       "<style scoped>\n",
       "    .dataframe tbody tr th:only-of-type {\n",
       "        vertical-align: middle;\n",
       "    }\n",
       "\n",
       "    .dataframe tbody tr th {\n",
       "        vertical-align: top;\n",
       "    }\n",
       "\n",
       "    .dataframe thead th {\n",
       "        text-align: right;\n",
       "    }\n",
       "</style>\n",
       "<table border=\"1\" class=\"dataframe\">\n",
       "  <thead>\n",
       "    <tr style=\"text-align: right;\">\n",
       "      <th></th>\n",
       "      <th>trips_in_first_30_days</th>\n",
       "      <th>avg_rating_of_driver</th>\n",
       "      <th>avg_surge</th>\n",
       "      <th>weekday_pct</th>\n",
       "      <th>avg_dist</th>\n",
       "      <th>avg_rating_by_driver</th>\n",
       "      <th>class</th>\n",
       "      <th>city_Astapor</th>\n",
       "      <th>city_King's Landing</th>\n",
       "      <th>city_Winterfell</th>\n",
       "      <th>phone_Android</th>\n",
       "      <th>ultimate_black_user_False</th>\n",
       "    </tr>\n",
       "  </thead>\n",
       "  <tbody>\n",
       "    <tr>\n",
       "      <th>count</th>\n",
       "      <td>50000.000000</td>\n",
       "      <td>50000.000000</td>\n",
       "      <td>50000.000000</td>\n",
       "      <td>50000.000000</td>\n",
       "      <td>50000.000000</td>\n",
       "      <td>50000.000000</td>\n",
       "      <td>50000.000000</td>\n",
       "      <td>50000.000000</td>\n",
       "      <td>50000.000000</td>\n",
       "      <td>50000.000000</td>\n",
       "      <td>50000.000000</td>\n",
       "      <td>50000.00000</td>\n",
       "    </tr>\n",
       "    <tr>\n",
       "      <th>mean</th>\n",
       "      <td>2.278200</td>\n",
       "      <td>3.854082</td>\n",
       "      <td>1.074764</td>\n",
       "      <td>60.926084</td>\n",
       "      <td>5.796827</td>\n",
       "      <td>4.758950</td>\n",
       "      <td>0.243960</td>\n",
       "      <td>0.330680</td>\n",
       "      <td>0.202600</td>\n",
       "      <td>0.466720</td>\n",
       "      <td>0.300440</td>\n",
       "      <td>0.62292</td>\n",
       "    </tr>\n",
       "    <tr>\n",
       "      <th>std</th>\n",
       "      <td>3.792684</td>\n",
       "      <td>1.788881</td>\n",
       "      <td>0.222336</td>\n",
       "      <td>37.081503</td>\n",
       "      <td>5.707357</td>\n",
       "      <td>0.538617</td>\n",
       "      <td>0.429473</td>\n",
       "      <td>0.470463</td>\n",
       "      <td>0.401941</td>\n",
       "      <td>0.498896</td>\n",
       "      <td>0.458454</td>\n",
       "      <td>0.48466</td>\n",
       "    </tr>\n",
       "    <tr>\n",
       "      <th>min</th>\n",
       "      <td>0.000000</td>\n",
       "      <td>0.000000</td>\n",
       "      <td>1.000000</td>\n",
       "      <td>0.000000</td>\n",
       "      <td>0.000000</td>\n",
       "      <td>0.000000</td>\n",
       "      <td>0.000000</td>\n",
       "      <td>0.000000</td>\n",
       "      <td>0.000000</td>\n",
       "      <td>0.000000</td>\n",
       "      <td>0.000000</td>\n",
       "      <td>0.00000</td>\n",
       "    </tr>\n",
       "    <tr>\n",
       "      <th>25%</th>\n",
       "      <td>0.000000</td>\n",
       "      <td>4.000000</td>\n",
       "      <td>1.000000</td>\n",
       "      <td>33.300000</td>\n",
       "      <td>2.420000</td>\n",
       "      <td>4.700000</td>\n",
       "      <td>0.000000</td>\n",
       "      <td>0.000000</td>\n",
       "      <td>0.000000</td>\n",
       "      <td>0.000000</td>\n",
       "      <td>0.000000</td>\n",
       "      <td>0.00000</td>\n",
       "    </tr>\n",
       "    <tr>\n",
       "      <th>50%</th>\n",
       "      <td>1.000000</td>\n",
       "      <td>4.700000</td>\n",
       "      <td>1.000000</td>\n",
       "      <td>66.700000</td>\n",
       "      <td>3.880000</td>\n",
       "      <td>5.000000</td>\n",
       "      <td>0.000000</td>\n",
       "      <td>0.000000</td>\n",
       "      <td>0.000000</td>\n",
       "      <td>0.000000</td>\n",
       "      <td>0.000000</td>\n",
       "      <td>1.00000</td>\n",
       "    </tr>\n",
       "    <tr>\n",
       "      <th>75%</th>\n",
       "      <td>3.000000</td>\n",
       "      <td>5.000000</td>\n",
       "      <td>1.050000</td>\n",
       "      <td>100.000000</td>\n",
       "      <td>6.940000</td>\n",
       "      <td>5.000000</td>\n",
       "      <td>0.000000</td>\n",
       "      <td>1.000000</td>\n",
       "      <td>0.000000</td>\n",
       "      <td>1.000000</td>\n",
       "      <td>1.000000</td>\n",
       "      <td>1.00000</td>\n",
       "    </tr>\n",
       "    <tr>\n",
       "      <th>max</th>\n",
       "      <td>125.000000</td>\n",
       "      <td>5.000000</td>\n",
       "      <td>8.000000</td>\n",
       "      <td>100.000000</td>\n",
       "      <td>160.960000</td>\n",
       "      <td>5.000000</td>\n",
       "      <td>1.000000</td>\n",
       "      <td>1.000000</td>\n",
       "      <td>1.000000</td>\n",
       "      <td>1.000000</td>\n",
       "      <td>1.000000</td>\n",
       "      <td>1.00000</td>\n",
       "    </tr>\n",
       "  </tbody>\n",
       "</table>\n",
       "</div>"
      ],
      "text/plain": [
       "       trips_in_first_30_days  avg_rating_of_driver     avg_surge  \\\n",
       "count            50000.000000          50000.000000  50000.000000   \n",
       "mean                 2.278200              3.854082      1.074764   \n",
       "std                  3.792684              1.788881      0.222336   \n",
       "min                  0.000000              0.000000      1.000000   \n",
       "25%                  0.000000              4.000000      1.000000   \n",
       "50%                  1.000000              4.700000      1.000000   \n",
       "75%                  3.000000              5.000000      1.050000   \n",
       "max                125.000000              5.000000      8.000000   \n",
       "\n",
       "        weekday_pct      avg_dist  avg_rating_by_driver         class  \\\n",
       "count  50000.000000  50000.000000          50000.000000  50000.000000   \n",
       "mean      60.926084      5.796827              4.758950      0.243960   \n",
       "std       37.081503      5.707357              0.538617      0.429473   \n",
       "min        0.000000      0.000000              0.000000      0.000000   \n",
       "25%       33.300000      2.420000              4.700000      0.000000   \n",
       "50%       66.700000      3.880000              5.000000      0.000000   \n",
       "75%      100.000000      6.940000              5.000000      0.000000   \n",
       "max      100.000000    160.960000              5.000000      1.000000   \n",
       "\n",
       "       city_Astapor  city_King's Landing  city_Winterfell  phone_Android  \\\n",
       "count  50000.000000         50000.000000     50000.000000   50000.000000   \n",
       "mean       0.330680             0.202600         0.466720       0.300440   \n",
       "std        0.470463             0.401941         0.498896       0.458454   \n",
       "min        0.000000             0.000000         0.000000       0.000000   \n",
       "25%        0.000000             0.000000         0.000000       0.000000   \n",
       "50%        0.000000             0.000000         0.000000       0.000000   \n",
       "75%        1.000000             0.000000         1.000000       1.000000   \n",
       "max        1.000000             1.000000         1.000000       1.000000   \n",
       "\n",
       "       ultimate_black_user_False  \n",
       "count                50000.00000  \n",
       "mean                     0.62292  \n",
       "std                      0.48466  \n",
       "min                      0.00000  \n",
       "25%                      0.00000  \n",
       "50%                      1.00000  \n",
       "75%                      1.00000  \n",
       "max                      1.00000  "
      ]
     },
     "execution_count": 167,
     "metadata": {},
     "output_type": "execute_result"
    }
   ],
   "source": [
    "df5.describe()"
   ]
  },
  {
   "cell_type": "code",
   "execution_count": 168,
   "metadata": {},
   "outputs": [
    {
     "data": {
      "text/plain": [
       "(50000, 12)"
      ]
     },
     "execution_count": 168,
     "metadata": {},
     "output_type": "execute_result"
    }
   ],
   "source": [
    "df5.shape"
   ]
  },
  {
   "cell_type": "code",
   "execution_count": 171,
   "metadata": {},
   "outputs": [],
   "source": [
    "df6=df5"
   ]
  },
  {
   "cell_type": "code",
   "execution_count": 172,
   "metadata": {},
   "outputs": [
    {
     "name": "stdout",
     "output_type": "stream",
     "text": [
      "[00:06:00] INFO: C:/Users/Administrator/workspace/xgboost-win64_release_1.4.0/src/tree/updater_prune.cc:101: tree pruning end, 11236 extra nodes, 0 pruned nodes, max_depth=20\n",
      "[00:06:00] INFO: C:/Users/Administrator/workspace/xgboost-win64_release_1.4.0/src/tree/updater_prune.cc:101: tree pruning end, 11940 extra nodes, 0 pruned nodes, max_depth=20\n",
      "[00:06:00] INFO: C:/Users/Administrator/workspace/xgboost-win64_release_1.4.0/src/tree/updater_prune.cc:101: tree pruning end, 12332 extra nodes, 0 pruned nodes, max_depth=20\n",
      "[00:06:00] INFO: C:/Users/Administrator/workspace/xgboost-win64_release_1.4.0/src/tree/updater_prune.cc:101: tree pruning end, 12364 extra nodes, 0 pruned nodes, max_depth=20\n",
      "[00:06:00] INFO: C:/Users/Administrator/workspace/xgboost-win64_release_1.4.0/src/tree/updater_prune.cc:101: tree pruning end, 11848 extra nodes, 0 pruned nodes, max_depth=20\n",
      "[00:06:00] INFO: C:/Users/Administrator/workspace/xgboost-win64_release_1.4.0/src/tree/updater_prune.cc:101: tree pruning end, 12868 extra nodes, 0 pruned nodes, max_depth=20\n",
      "[00:06:01] INFO: C:/Users/Administrator/workspace/xgboost-win64_release_1.4.0/src/tree/updater_prune.cc:101: tree pruning end, 12260 extra nodes, 0 pruned nodes, max_depth=20\n",
      "[00:06:01] INFO: C:/Users/Administrator/workspace/xgboost-win64_release_1.4.0/src/tree/updater_prune.cc:101: tree pruning end, 12408 extra nodes, 0 pruned nodes, max_depth=20\n",
      "[00:06:01] INFO: C:/Users/Administrator/workspace/xgboost-win64_release_1.4.0/src/tree/updater_prune.cc:101: tree pruning end, 13898 extra nodes, 0 pruned nodes, max_depth=20\n",
      "[00:06:01] INFO: C:/Users/Administrator/workspace/xgboost-win64_release_1.4.0/src/tree/updater_prune.cc:101: tree pruning end, 14376 extra nodes, 0 pruned nodes, max_depth=20\n"
     ]
    },
    {
     "name": "stderr",
     "output_type": "stream",
     "text": [
      "C:\\Users\\eymoo\\Documents\\Anaconda_real\\lib\\site-packages\\xgboost\\sklearn.py:1146: UserWarning: The use of label encoder in XGBClassifier is deprecated and will be removed in a future release. To remove this warning, do the following: 1) Pass option use_label_encoder=False when constructing XGBClassifier object; and 2) Encode your labels (y) as integers starting with 0, i.e. 0, 1, 2, ..., [num_class - 1].\n",
      "  warnings.warn(label_encoder_deprecation_msg, UserWarning)\n"
     ]
    },
    {
     "name": "stdout",
     "output_type": "stream",
     "text": [
      "[00:06:02] INFO: C:/Users/Administrator/workspace/xgboost-win64_release_1.4.0/src/tree/updater_prune.cc:101: tree pruning end, 122 extra nodes, 0 pruned nodes, max_depth=6\n",
      "[00:06:02] WARNING: C:/Users/Administrator/workspace/xgboost-win64_release_1.4.0/src/learner.cc:1095: Starting in XGBoost 1.3.0, the default evaluation metric used with the objective 'binary:logistic' was changed from 'error' to 'logloss'. Explicitly set eval_metric if you'd like to restore the old behavior.\n",
      "[00:06:02] INFO: C:/Users/Administrator/workspace/xgboost-win64_release_1.4.0/src/tree/updater_prune.cc:101: tree pruning end, 122 extra nodes, 0 pruned nodes, max_depth=6\n",
      "[00:06:02] INFO: C:/Users/Administrator/workspace/xgboost-win64_release_1.4.0/src/tree/updater_prune.cc:101: tree pruning end, 126 extra nodes, 0 pruned nodes, max_depth=6\n",
      "[00:06:02] INFO: C:/Users/Administrator/workspace/xgboost-win64_release_1.4.0/src/tree/updater_prune.cc:101: tree pruning end, 126 extra nodes, 0 pruned nodes, max_depth=6\n",
      "[00:06:02] INFO: C:/Users/Administrator/workspace/xgboost-win64_release_1.4.0/src/tree/updater_prune.cc:101: tree pruning end, 126 extra nodes, 0 pruned nodes, max_depth=6\n",
      "[00:06:02] INFO: C:/Users/Administrator/workspace/xgboost-win64_release_1.4.0/src/tree/updater_prune.cc:101: tree pruning end, 116 extra nodes, 0 pruned nodes, max_depth=6\n",
      "[00:06:02] INFO: C:/Users/Administrator/workspace/xgboost-win64_release_1.4.0/src/tree/updater_prune.cc:101: tree pruning end, 122 extra nodes, 0 pruned nodes, max_depth=6\n",
      "[00:06:02] INFO: C:/Users/Administrator/workspace/xgboost-win64_release_1.4.0/src/tree/updater_prune.cc:101: tree pruning end, 122 extra nodes, 0 pruned nodes, max_depth=6\n",
      "[00:06:02] INFO: C:/Users/Administrator/workspace/xgboost-win64_release_1.4.0/src/tree/updater_prune.cc:101: tree pruning end, 122 extra nodes, 0 pruned nodes, max_depth=6\n",
      "[00:06:02] INFO: C:/Users/Administrator/workspace/xgboost-win64_release_1.4.0/src/tree/updater_prune.cc:101: tree pruning end, 114 extra nodes, 0 pruned nodes, max_depth=6\n",
      "accuracy: 0.793700\n"
     ]
    }
   ],
   "source": [
    "#Time to make the first model ## since the dataset is small XGboost (at least 1000 test) is not appropriate \n",
    "#but still let's do it.\n",
    "\n",
    "# Import xgboost\n",
    "import xgboost as xgb\n",
    "import pandas as pd\n",
    "import numpy as np\n",
    "from sklearn.model_selection import train_test_split\n",
    "import pandas as pd\n",
    "from xgboost import XGBRegressor\n",
    "from sklearn.compose import ColumnTransformer\n",
    "from sklearn.preprocessing import OneHotEncoder\n",
    "\n",
    "y= df6['class']\n",
    "X= df6.drop(columns=['class'])\n",
    "\n",
    "# Create the training and test sets\n",
    "X_train, X_test, y_train, y_test=train_test_split(X, y, test_size=0.2,random_state=123)\n",
    "\n",
    "from sklearn import preprocessing\n",
    "\n",
    "# one-hot encode the categorical features\n",
    "#cat_attribs=['new company or not','email_type','invited or not','Utm_Signup__Utm_Source']\n",
    "#full_pipeline = ColumnTransformer([('cat', OneHotEncoder(handle_unknown='ignore'), cat_attribs)], remainder='passthrough')\n",
    "\n",
    "#encoder = full_pipeline.fit(X_train)\n",
    "#X_train = encoder.transform(X_train)\n",
    "#X_test = encoder.transform(X_test)\n",
    "\n",
    "# train the model\n",
    "model = XGBRegressor(n_estimators=10, max_depth=20, verbosity=2)\n",
    "model.fit(X_train, y_train)\n",
    "\n",
    "# Instantiate the XGBClassifier: xg_cl\n",
    "xg_cl = xgb.XGBClassifier(objective='binary:logistic', \n",
    "        n_estimators=10, seed=123)\n",
    "\n",
    "# Fit the classifier to the training set\n",
    "xg_cl.fit(X_train, y_train)\n",
    "\n",
    "# Predict the labels of the test set: preds\n",
    "preds = xg_cl.predict(X_test)\n",
    "\n",
    "# Compute the accuracy: accuracy\n",
    "accuracy = float(np.sum(preds==y_test))/y_test.shape[0]\n",
    "print(\"accuracy: %f\" % (accuracy))"
   ]
  },
  {
   "cell_type": "code",
   "execution_count": 148,
   "metadata": {},
   "outputs": [],
   "source": [
    "# This is our 3rd :  Logistic Regression ##"
   ]
  },
  {
   "cell_type": "code",
   "execution_count": 173,
   "metadata": {},
   "outputs": [],
   "source": [
    "import pandas as pd\n",
    "from matplotlib import pyplot as plt\n",
    "plt.style.use('dark_background')\n",
    "from sklearn.datasets import load_breast_cancer\n",
    "from sklearn.ensemble import RandomForestClassifier\n",
    "from sklearn.model_selection import train_test_split\n",
    "from sklearn.preprocessing import LabelEncoder\n",
    "from sklearn.metrics import roc_curve\n",
    "from sklearn.metrics import auc\n",
    "from sklearn.metrics import precision_recall_curve\n",
    "from sklearn.metrics import precision_score\n",
    "from sklearn.metrics import recall_score\n",
    "from sklearn.metrics import f1_score\n",
    "from sklearn.metrics import average_precision_score\n",
    "from inspect import signature\n",
    "from sklearn.metrics import confusion_matrix\n",
    "import seaborn as sns"
   ]
  },
  {
   "cell_type": "code",
   "execution_count": 174,
   "metadata": {},
   "outputs": [
    {
     "data": {
      "text/plain": [
       "(0.5723771580345286, 0.17435275080906149, 0.26728682170542634)"
      ]
     },
     "execution_count": 174,
     "metadata": {},
     "output_type": "execute_result"
    }
   ],
   "source": [
    "from sklearn.linear_model import LogisticRegression\n",
    "# all parameters not specified are set to their defaults\n",
    "logisticRegr =  LogisticRegression(solver='lbfgs', max_iter=1000)\n",
    "logisticRegr.fit(X_train, y_train)\n",
    "\n",
    "predictions = logisticRegr.predict(X_test)\n",
    "y_pred = logisticRegr.predict(X_test)\n",
    "\n",
    "precision_score(y_test, y_pred),recall_score(y_test, y_pred),f1_score(y_test, y_pred)\n"
   ]
  },
  {
   "cell_type": "code",
   "execution_count": 131,
   "metadata": {},
   "outputs": [
    {
     "data": {
      "application/vnd.jupyter.widget-view+json": {
       "model_id": "ea5a17708a49452aace03a7c313df8f0",
       "version_major": 2,
       "version_minor": 0
      },
      "text/plain": [
       "HBox(children=(HTML(value='Summarize dataset'), FloatProgress(value=0.0, max=27.0), HTML(value='')))"
      ]
     },
     "metadata": {},
     "output_type": "display_data"
    },
    {
     "name": "stdout",
     "output_type": "stream",
     "text": [
      "\n"
     ]
    },
    {
     "data": {
      "application/vnd.jupyter.widget-view+json": {
       "model_id": "3f1e3b0fb1aa4918b7b36fa9c7ea4fa4",
       "version_major": 2,
       "version_minor": 0
      },
      "text/plain": [
       "HBox(children=(HTML(value='Generate report structure'), FloatProgress(value=0.0, max=1.0), HTML(value='')))"
      ]
     },
     "metadata": {},
     "output_type": "display_data"
    },
    {
     "name": "stdout",
     "output_type": "stream",
     "text": [
      "\n"
     ]
    },
    {
     "data": {
      "application/vnd.jupyter.widget-view+json": {
       "model_id": "4f306186a82b4901900d4ac386ee8a09",
       "version_major": 2,
       "version_minor": 0
      },
      "text/plain": [
       "HBox(children=(HTML(value='Render HTML'), FloatProgress(value=0.0, max=1.0), HTML(value='')))"
      ]
     },
     "metadata": {},
     "output_type": "display_data"
    },
    {
     "name": "stdout",
     "output_type": "stream",
     "text": [
      "\n"
     ]
    },
    {
     "data": {
      "application/vnd.jupyter.widget-view+json": {
       "model_id": "bcd7de65e3c7463e94c08b2f82fd4ab5",
       "version_major": 2,
       "version_minor": 0
      },
      "text/plain": [
       "HBox(children=(HTML(value='Export report to file'), FloatProgress(value=0.0, max=1.0), HTML(value='')))"
      ]
     },
     "metadata": {},
     "output_type": "display_data"
    },
    {
     "name": "stdout",
     "output_type": "stream",
     "text": [
      "\n"
     ]
    }
   ],
   "source": [
    "prof = ProfileReport(df6)\n",
    "prof.to_file(output_file='df6_output.html')"
   ]
  },
  {
   "cell_type": "code",
   "execution_count": 180,
   "metadata": {},
   "outputs": [
    {
     "name": "stdout",
     "output_type": "stream",
     "text": [
      "0.7637\n"
     ]
    },
    {
     "data": {
      "image/png": "[encoded data removed]",
      "text/plain": [
       "<Figure size 648x648 with 2 Axes>"
      ]
     },
     "metadata": {},
     "output_type": "display_data"
    }
   ],
   "source": [
    "\n",
    "# Use score method to get accuracy of model\n",
    "score = logisticRegr.score(X_test, y_test)\n",
    "print(score)\n",
    "\n",
    "import matplotlib.pyplot as plt\n",
    "import seaborn as sns\n",
    "from sklearn import metrics\n",
    "\n",
    "plt.figure(figsize=(9,9))\n",
    "sns.heatmap(cm, annot=True, fmt=\".3f\", linewidths=.5, square = True, cmap = 'Blues_r');\n",
    "plt.ylabel('Actual label');\n",
    "plt.xlabel('Predicted label');\n",
    "all_sample_title = 'Accuracy Score: {0}'.format(score)\n",
    "plt.title(all_sample_title, size = 15);"
   ]
  },
  {
   "cell_type": "code",
   "execution_count": 181,
   "metadata": {},
   "outputs": [
    {
     "data": {
      "text/plain": [
       "array([[ 8.62833360e-02,  1.45812531e-01,  2.19259161e-01,\n",
       "        -9.57136916e-05, -3.97255651e-02, -6.88723392e-02,\n",
       "        -8.12415941e-01,  4.15565060e-01, -3.18489172e-01,\n",
       "        -9.38324478e-01, -6.78708445e-01]])"
      ]
     },
     "execution_count": 181,
     "metadata": {},
     "output_type": "execute_result"
    }
   ],
   "source": [
    "logisticRegr.coef_"
   ]
  },
  {
   "cell_type": "markdown",
   "metadata": {},
   "source": [
    "#But what does this mean? https://towardsdatascience.com/interpreting-coefficients-in-linear-and-logistic-regression-6ddf1295f6f1"
   ]
  },
  {
   "cell_type": "code",
   "execution_count": 186,
   "metadata": {},
   "outputs": [
    {
     "data": {
      "text/html": [
       "<div>\n",
       "<style scoped>\n",
       "    .dataframe tbody tr th:only-of-type {\n",
       "        vertical-align: middle;\n",
       "    }\n",
       "\n",
       "    .dataframe tbody tr th {\n",
       "        vertical-align: top;\n",
       "    }\n",
       "\n",
       "    .dataframe thead th {\n",
       "        text-align: right;\n",
       "    }\n",
       "</style>\n",
       "<table border=\"1\" class=\"dataframe\">\n",
       "  <thead>\n",
       "    <tr style=\"text-align: right;\">\n",
       "      <th></th>\n",
       "      <th>coef</th>\n",
       "    </tr>\n",
       "  </thead>\n",
       "  <tbody>\n",
       "    <tr>\n",
       "      <th>city_King's Landing</th>\n",
       "      <td>0.415565</td>\n",
       "    </tr>\n",
       "    <tr>\n",
       "      <th>avg_surge</th>\n",
       "      <td>0.219259</td>\n",
       "    </tr>\n",
       "    <tr>\n",
       "      <th>avg_rating_of_driver</th>\n",
       "      <td>0.145813</td>\n",
       "    </tr>\n",
       "    <tr>\n",
       "      <th>trips_in_first_30_days</th>\n",
       "      <td>0.086283</td>\n",
       "    </tr>\n",
       "    <tr>\n",
       "      <th>weekday_pct</th>\n",
       "      <td>-0.000096</td>\n",
       "    </tr>\n",
       "    <tr>\n",
       "      <th>avg_dist</th>\n",
       "      <td>-0.039726</td>\n",
       "    </tr>\n",
       "    <tr>\n",
       "      <th>avg_rating_by_driver</th>\n",
       "      <td>-0.068872</td>\n",
       "    </tr>\n",
       "    <tr>\n",
       "      <th>city_Winterfell</th>\n",
       "      <td>-0.318489</td>\n",
       "    </tr>\n",
       "    <tr>\n",
       "      <th>ultimate_black_user_False</th>\n",
       "      <td>-0.678708</td>\n",
       "    </tr>\n",
       "    <tr>\n",
       "      <th>city_Astapor</th>\n",
       "      <td>-0.812416</td>\n",
       "    </tr>\n",
       "    <tr>\n",
       "      <th>phone_Android</th>\n",
       "      <td>-0.938324</td>\n",
       "    </tr>\n",
       "  </tbody>\n",
       "</table>\n",
       "</div>"
      ],
      "text/plain": [
       "                               coef\n",
       "city_King's Landing        0.415565\n",
       "avg_surge                  0.219259\n",
       "avg_rating_of_driver       0.145813\n",
       "trips_in_first_30_days     0.086283\n",
       "weekday_pct               -0.000096\n",
       "avg_dist                  -0.039726\n",
       "avg_rating_by_driver      -0.068872\n",
       "city_Winterfell           -0.318489\n",
       "ultimate_black_user_False -0.678708\n",
       "city_Astapor              -0.812416\n",
       "phone_Android             -0.938324"
      ]
     },
     "execution_count": 186,
     "metadata": {},
     "output_type": "execute_result"
    }
   ],
   "source": [
    "log_odds = logisticRegr.coef_[0]\n",
    "\n",
    "pd.DataFrame(log_odds, \n",
    "             X.columns, \n",
    "             columns=['coef'])\\\n",
    "            .sort_values(by='coef', ascending=False)"
   ]
  },
  {
   "cell_type": "markdown",
   "metadata": {},
   "source": [
    "However, logistic regression coefficients aren’t as easily interpreted. This is because logistic regression uses the logit link function to “bend” our line of best fit and convert our classification problem into a regression problem. (Again, learn more here.)\n",
    "Because of the logit function, logistic regression coefficients represent the log odds that an observation is in the target class (“1”) given the values of its X variables. Thus, these log odd coefficients need to be converted to regular odds in order to make sense of them. Happily, this is done by simply exponentiating the log odds coefficients, which you can do with np.exp():"
   ]
  },
  {
   "cell_type": "code",
   "execution_count": 187,
   "metadata": {},
   "outputs": [
    {
     "data": {
      "text/html": [
       "<div>\n",
       "<style scoped>\n",
       "    .dataframe tbody tr th:only-of-type {\n",
       "        vertical-align: middle;\n",
       "    }\n",
       "\n",
       "    .dataframe tbody tr th {\n",
       "        vertical-align: top;\n",
       "    }\n",
       "\n",
       "    .dataframe thead th {\n",
       "        text-align: right;\n",
       "    }\n",
       "</style>\n",
       "<table border=\"1\" class=\"dataframe\">\n",
       "  <thead>\n",
       "    <tr style=\"text-align: right;\">\n",
       "      <th></th>\n",
       "      <th>coef</th>\n",
       "    </tr>\n",
       "  </thead>\n",
       "  <tbody>\n",
       "    <tr>\n",
       "      <th>city_King's Landing</th>\n",
       "      <td>1.515227</td>\n",
       "    </tr>\n",
       "    <tr>\n",
       "      <th>avg_surge</th>\n",
       "      <td>1.245154</td>\n",
       "    </tr>\n",
       "    <tr>\n",
       "      <th>avg_rating_of_driver</th>\n",
       "      <td>1.156979</td>\n",
       "    </tr>\n",
       "    <tr>\n",
       "      <th>trips_in_first_30_days</th>\n",
       "      <td>1.090115</td>\n",
       "    </tr>\n",
       "    <tr>\n",
       "      <th>weekday_pct</th>\n",
       "      <td>0.999904</td>\n",
       "    </tr>\n",
       "    <tr>\n",
       "      <th>avg_dist</th>\n",
       "      <td>0.961053</td>\n",
       "    </tr>\n",
       "    <tr>\n",
       "      <th>avg_rating_by_driver</th>\n",
       "      <td>0.933446</td>\n",
       "    </tr>\n",
       "    <tr>\n",
       "      <th>city_Winterfell</th>\n",
       "      <td>0.727247</td>\n",
       "    </tr>\n",
       "    <tr>\n",
       "      <th>ultimate_black_user_False</th>\n",
       "      <td>0.507272</td>\n",
       "    </tr>\n",
       "    <tr>\n",
       "      <th>city_Astapor</th>\n",
       "      <td>0.443785</td>\n",
       "    </tr>\n",
       "    <tr>\n",
       "      <th>phone_Android</th>\n",
       "      <td>0.391283</td>\n",
       "    </tr>\n",
       "  </tbody>\n",
       "</table>\n",
       "</div>"
      ],
      "text/plain": [
       "                               coef\n",
       "city_King's Landing        1.515227\n",
       "avg_surge                  1.245154\n",
       "avg_rating_of_driver       1.156979\n",
       "trips_in_first_30_days     1.090115\n",
       "weekday_pct                0.999904\n",
       "avg_dist                   0.961053\n",
       "avg_rating_by_driver       0.933446\n",
       "city_Winterfell            0.727247\n",
       "ultimate_black_user_False  0.507272\n",
       "city_Astapor               0.443785\n",
       "phone_Android              0.391283"
      ]
     },
     "execution_count": 187,
     "metadata": {},
     "output_type": "execute_result"
    }
   ],
   "source": [
    "odds = np.exp(logisticRegr.coef_[0])\n",
    "\n",
    "pd.DataFrame(odds, \n",
    "             X.columns, \n",
    "             columns=['coef'])\\\n",
    "            .sort_values(by='coef', ascending=False)"
   ]
  },
  {
   "cell_type": "markdown",
   "metadata": {},
   "source": [
    "<br>\n",
    "3. Briefly discuss how Ultimate might leverage the insights gained from the model to\n",
    "improve its long­term rider retention (again, a few sentences will suffice)."
   ]
  },
  {
   "cell_type": "markdown",
   "metadata": {},
   "source": [
    "Now these coefficients are beginning to make more sense, and you would verbally describe the odds coefficients like this:\n",
    "“For every one-unit increase in [X variable], the odds that the observation is in (y class) are [coefficient] times as large as the odds that the observation is not in (y class) when all other variables are held constant.”\n",
    "So, as variable city_King's Landing increases by one unit, the odds that the customers in the observation are in the target class (“1”) are over 1.5x as large as the odds that they won’t be in the target class. On the other hand, as phone_Android increases by one unit, the odds that the houses are in the target class are only ~0.39. For odds less than 1 (our negative coefficients), we can take 1/odds to make even better sense of them. So as phone_Android increases by 1, the odds that the house is NOT in the target class are 1/0.39 or 2.56x (ominous!) as likely as the odds that it IS in the target class."
   ]
  }
 ],
 "metadata": {
  "kernelspec": {
   "display_name": "Python 3",
   "language": "python",
   "name": "python3"
  },
  "language_info": {
   "codemirror_mode": {
    "name": "ipython",
    "version": 3
   },
   "file_extension": ".py",
   "mimetype": "text/x-python",
   "name": "python",
   "nbconvert_exporter": "python",
   "pygments_lexer": "ipython3",
   "version": "3.8.5"
  }
 },
 "nbformat": 4,
 "nbformat_minor": 4
}
